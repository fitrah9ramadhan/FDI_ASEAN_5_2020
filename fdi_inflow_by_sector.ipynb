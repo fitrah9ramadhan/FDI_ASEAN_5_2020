{
 "cells": [
  {
   "cell_type": "code",
   "execution_count": 1,
   "id": "c17091ac-50ad-41ff-83f1-310d9f89bde0",
   "metadata": {},
   "outputs": [],
   "source": [
    "import pandas as pd"
   ]
  },
  {
   "cell_type": "markdown",
   "id": "6d247793-defe-4101-8849-cbe2f90a8503",
   "metadata": {
    "tags": []
   },
   "source": [
    "## Sumber Data: ASEANStatsDataPortal"
   ]
  },
  {
   "cell_type": "markdown",
   "id": "cee30944-ffd9-4781-94a1-ed1a69525fd9",
   "metadata": {},
   "source": [
    "Analisis data ini mengungkap arus modal asing di lima negara ASEAN yaitu Indonesia, Malaysia, Singapura, Thailand, dan Filipina (ASEAN-5) pada tahun 2020"
   ]
  },
  {
   "cell_type": "markdown",
   "id": "65b1a1cb-5858-4816-9063-feb062345260",
   "metadata": {},
   "source": [
    "Arus Foreign Direct Investment (FDI) untuk lima sektor terbesar di setiap negara"
   ]
  },
  {
   "cell_type": "code",
   "execution_count": 2,
   "id": "a32e5bd5-e9a8-428e-92df-6c5eb5841a06",
   "metadata": {},
   "outputs": [
    {
     "data": {
      "text/html": [
       "<div>\n",
       "<style scoped>\n",
       "    .dataframe tbody tr th:only-of-type {\n",
       "        vertical-align: middle;\n",
       "    }\n",
       "\n",
       "    .dataframe tbody tr th {\n",
       "        vertical-align: top;\n",
       "    }\n",
       "\n",
       "    .dataframe thead th {\n",
       "        text-align: right;\n",
       "    }\n",
       "</style>\n",
       "<table border=\"1\" class=\"dataframe\">\n",
       "  <thead>\n",
       "    <tr style=\"text-align: right;\">\n",
       "      <th></th>\n",
       "      <th>Source Country</th>\n",
       "      <th>Sector</th>\n",
       "      <th>2015</th>\n",
       "      <th>2016</th>\n",
       "      <th>2017</th>\n",
       "      <th>2018</th>\n",
       "      <th>2019</th>\n",
       "      <th>2020</th>\n",
       "    </tr>\n",
       "  </thead>\n",
       "  <tbody>\n",
       "    <tr>\n",
       "      <th>0</th>\n",
       "      <td>Indonesia [ID]</td>\n",
       "      <td>[A] Agriculture, forestry, and fishing</td>\n",
       "      <td>0.15</td>\n",
       "      <td>0.05</td>\n",
       "      <td>-0.02</td>\n",
       "      <td>0.18</td>\n",
       "      <td>0.05</td>\n",
       "      <td>0.12</td>\n",
       "    </tr>\n",
       "    <tr>\n",
       "      <th>1</th>\n",
       "      <td>NaN</td>\n",
       "      <td>[B] Mining and quarrying</td>\n",
       "      <td>408.04</td>\n",
       "      <td>38.59</td>\n",
       "      <td>204.08</td>\n",
       "      <td>304.74</td>\n",
       "      <td>228.03</td>\n",
       "      <td>169.54</td>\n",
       "    </tr>\n",
       "    <tr>\n",
       "      <th>2</th>\n",
       "      <td>NaN</td>\n",
       "      <td>[C] Manufacturing</td>\n",
       "      <td>115.09</td>\n",
       "      <td>15.78</td>\n",
       "      <td>-42.73</td>\n",
       "      <td>0.00</td>\n",
       "      <td>0.00</td>\n",
       "      <td>0.00</td>\n",
       "    </tr>\n",
       "    <tr>\n",
       "      <th>3</th>\n",
       "      <td>NaN</td>\n",
       "      <td>[D] Electricity, gas, steam and air conditioni...</td>\n",
       "      <td>1.38</td>\n",
       "      <td>0.45</td>\n",
       "      <td>4.91</td>\n",
       "      <td>2.05</td>\n",
       "      <td>0.50</td>\n",
       "      <td>2.89</td>\n",
       "    </tr>\n",
       "    <tr>\n",
       "      <th>4</th>\n",
       "      <td>NaN</td>\n",
       "      <td>[E] Water supply; sewerage, waste management a...</td>\n",
       "      <td>0.01</td>\n",
       "      <td>0.25</td>\n",
       "      <td>0.29</td>\n",
       "      <td>0.33</td>\n",
       "      <td>0.12</td>\n",
       "      <td>0.05</td>\n",
       "    </tr>\n",
       "  </tbody>\n",
       "</table>\n",
       "</div>"
      ],
      "text/plain": [
       "   Source Country                                             Sector    2015  \\\n",
       "0  Indonesia [ID]             [A] Agriculture, forestry, and fishing    0.15   \n",
       "1             NaN                           [B] Mining and quarrying  408.04   \n",
       "2             NaN                                  [C] Manufacturing  115.09   \n",
       "3             NaN  [D] Electricity, gas, steam and air conditioni...    1.38   \n",
       "4             NaN  [E] Water supply; sewerage, waste management a...    0.01   \n",
       "\n",
       "    2016    2017    2018    2019    2020  \n",
       "0   0.05   -0.02    0.18    0.05    0.12  \n",
       "1  38.59  204.08  304.74  228.03  169.54  \n",
       "2  15.78  -42.73    0.00    0.00    0.00  \n",
       "3   0.45    4.91    2.05    0.50    2.89  \n",
       "4   0.25    0.29    0.33    0.12    0.05  "
      ]
     },
     "execution_count": 2,
     "metadata": {},
     "output_type": "execute_result"
    }
   ],
   "source": [
    "df = pd.read_csv(\"data/fdi-inflow.csv\", header=1)\n",
    "df.head()"
   ]
  },
  {
   "cell_type": "markdown",
   "id": "f543915d-5cc7-40b6-aca5-d83c36833ed8",
   "metadata": {},
   "source": [
    "# Data Cleaning"
   ]
  },
  {
   "cell_type": "code",
   "execution_count": 3,
   "id": "a966b8d9-3b2e-4a1c-aed4-4cd47dcc9651",
   "metadata": {},
   "outputs": [],
   "source": [
    "import warnings\n",
    "warnings.filterwarnings('ignore')"
   ]
  },
  {
   "cell_type": "code",
   "execution_count": 4,
   "id": "6a8e1031-095c-488b-9cfb-bc1808bee233",
   "metadata": {},
   "outputs": [
    {
     "data": {
      "text/plain": [
       "Index(['Source Country', 'Sector', '2015', '2016', '2017', '2018', '2019',\n",
       "       '2020'],\n",
       "      dtype='object')"
      ]
     },
     "execution_count": 4,
     "metadata": {},
     "output_type": "execute_result"
    }
   ],
   "source": [
    "df.columns"
   ]
  },
  {
   "cell_type": "code",
   "execution_count": 5,
   "id": "a75b0731-5873-4d61-872f-f3bf59581dbf",
   "metadata": {},
   "outputs": [],
   "source": [
    "df_2020 = df[[\"Source Country\", \"Sector\", \"2020\"]]"
   ]
  },
  {
   "cell_type": "code",
   "execution_count": 6,
   "id": "e2c5ba66-ec16-4d08-94fd-c9f5f796dcb0",
   "metadata": {},
   "outputs": [],
   "source": [
    "df_2020[\"Industry_Code\"] = df_2020[\"Sector\"].str[:3]"
   ]
  },
  {
   "cell_type": "code",
   "execution_count": 7,
   "id": "3f1e3dd8-af0d-436c-9dc4-390e34226a2d",
   "metadata": {},
   "outputs": [],
   "source": [
    "df_2020[\"Sector\"] = df_2020[\"Sector\"].str[3:]"
   ]
  },
  {
   "cell_type": "code",
   "execution_count": 8,
   "id": "983e5a71-3376-4f89-a120-a8823ef1c718",
   "metadata": {},
   "outputs": [],
   "source": [
    "df_2020 = df_2020[df_2020[\"Industry_Code\"] != \"[99\"]"
   ]
  },
  {
   "cell_type": "code",
   "execution_count": 9,
   "id": "348cdcb4-9458-4925-9c3e-2d672b9c7cc4",
   "metadata": {},
   "outputs": [],
   "source": [
    "df_2020[\"Source Country\"] = df_2020[\"Source Country\"].fillna(method = 'ffill')"
   ]
  },
  {
   "cell_type": "code",
   "execution_count": 10,
   "id": "2be66a19-0c1c-4dec-94c5-42ffefb0c5ca",
   "metadata": {},
   "outputs": [
    {
     "data": {
      "text/html": [
       "<div>\n",
       "<style scoped>\n",
       "    .dataframe tbody tr th:only-of-type {\n",
       "        vertical-align: middle;\n",
       "    }\n",
       "\n",
       "    .dataframe tbody tr th {\n",
       "        vertical-align: top;\n",
       "    }\n",
       "\n",
       "    .dataframe thead th {\n",
       "        text-align: right;\n",
       "    }\n",
       "</style>\n",
       "<table border=\"1\" class=\"dataframe\">\n",
       "  <thead>\n",
       "    <tr style=\"text-align: right;\">\n",
       "      <th></th>\n",
       "      <th>Source Country</th>\n",
       "      <th>Sector</th>\n",
       "      <th>2020</th>\n",
       "      <th>Industry_Code</th>\n",
       "    </tr>\n",
       "  </thead>\n",
       "  <tbody>\n",
       "    <tr>\n",
       "      <th>0</th>\n",
       "      <td>Indonesia [ID]</td>\n",
       "      <td>Agriculture, forestry, and fishing</td>\n",
       "      <td>0.12</td>\n",
       "      <td>[A]</td>\n",
       "    </tr>\n",
       "    <tr>\n",
       "      <th>1</th>\n",
       "      <td>Indonesia [ID]</td>\n",
       "      <td>Mining and quarrying</td>\n",
       "      <td>169.54</td>\n",
       "      <td>[B]</td>\n",
       "    </tr>\n",
       "    <tr>\n",
       "      <th>2</th>\n",
       "      <td>Indonesia [ID]</td>\n",
       "      <td>Manufacturing</td>\n",
       "      <td>0.00</td>\n",
       "      <td>[C]</td>\n",
       "    </tr>\n",
       "    <tr>\n",
       "      <th>3</th>\n",
       "      <td>Indonesia [ID]</td>\n",
       "      <td>Electricity, gas, steam and air conditioning ...</td>\n",
       "      <td>2.89</td>\n",
       "      <td>[D]</td>\n",
       "    </tr>\n",
       "    <tr>\n",
       "      <th>4</th>\n",
       "      <td>Indonesia [ID]</td>\n",
       "      <td>Water supply; sewerage, waste management and ...</td>\n",
       "      <td>0.05</td>\n",
       "      <td>[E]</td>\n",
       "    </tr>\n",
       "    <tr>\n",
       "      <th>...</th>\n",
       "      <td>...</td>\n",
       "      <td>...</td>\n",
       "      <td>...</td>\n",
       "      <td>...</td>\n",
       "    </tr>\n",
       "    <tr>\n",
       "      <th>99</th>\n",
       "      <td>Thailand [TH]</td>\n",
       "      <td>Education</td>\n",
       "      <td>-4.55</td>\n",
       "      <td>[P]</td>\n",
       "    </tr>\n",
       "    <tr>\n",
       "      <th>100</th>\n",
       "      <td>Thailand [TH]</td>\n",
       "      <td>Human health and social work activities</td>\n",
       "      <td>-8.62</td>\n",
       "      <td>[Q]</td>\n",
       "    </tr>\n",
       "    <tr>\n",
       "      <th>101</th>\n",
       "      <td>Thailand [TH]</td>\n",
       "      <td>Arts, entertainment and recreation</td>\n",
       "      <td>0.18</td>\n",
       "      <td>[R]</td>\n",
       "    </tr>\n",
       "    <tr>\n",
       "      <th>102</th>\n",
       "      <td>Thailand [TH]</td>\n",
       "      <td>Other services activities.</td>\n",
       "      <td>0.00</td>\n",
       "      <td>[S]</td>\n",
       "    </tr>\n",
       "    <tr>\n",
       "      <th>103</th>\n",
       "      <td>Thailand [TH]</td>\n",
       "      <td>Unspecified activity</td>\n",
       "      <td>0.09</td>\n",
       "      <td>[Z]</td>\n",
       "    </tr>\n",
       "  </tbody>\n",
       "</table>\n",
       "<p>100 rows × 4 columns</p>\n",
       "</div>"
      ],
      "text/plain": [
       "     Source Country                                             Sector  \\\n",
       "0    Indonesia [ID]                 Agriculture, forestry, and fishing   \n",
       "1    Indonesia [ID]                               Mining and quarrying   \n",
       "2    Indonesia [ID]                                      Manufacturing   \n",
       "3    Indonesia [ID]   Electricity, gas, steam and air conditioning ...   \n",
       "4    Indonesia [ID]   Water supply; sewerage, waste management and ...   \n",
       "..              ...                                                ...   \n",
       "99    Thailand [TH]                                          Education   \n",
       "100   Thailand [TH]            Human health and social work activities   \n",
       "101   Thailand [TH]                 Arts, entertainment and recreation   \n",
       "102   Thailand [TH]                         Other services activities.   \n",
       "103   Thailand [TH]                               Unspecified activity   \n",
       "\n",
       "       2020 Industry_Code  \n",
       "0      0.12           [A]  \n",
       "1    169.54           [B]  \n",
       "2      0.00           [C]  \n",
       "3      2.89           [D]  \n",
       "4      0.05           [E]  \n",
       "..      ...           ...  \n",
       "99    -4.55           [P]  \n",
       "100   -8.62           [Q]  \n",
       "101    0.18           [R]  \n",
       "102    0.00           [S]  \n",
       "103    0.09           [Z]  \n",
       "\n",
       "[100 rows x 4 columns]"
      ]
     },
     "execution_count": 10,
     "metadata": {},
     "output_type": "execute_result"
    }
   ],
   "source": [
    "df_2020"
   ]
  },
  {
   "cell_type": "code",
   "execution_count": 11,
   "id": "0df458ae-7ba8-4ec6-966c-50f84365bba1",
   "metadata": {},
   "outputs": [],
   "source": [
    "df_2020 = df_2020[[\"Source Country\", \"Sector\", \"2020\"]]\n",
    "df_2020 = df_2020.rename(columns = {\"2020\":\"FDI\"})"
   ]
  },
  {
   "cell_type": "code",
   "execution_count": 12,
   "id": "0dc07f2c-3eff-426c-a75d-b044c8372040",
   "metadata": {},
   "outputs": [],
   "source": [
    "df_2020[\"FDI\"] = df_2020[\"FDI\"].str.replace(' ', '')\n",
    "df_2020[\"FDI\"] = df_2020[\"FDI\"].astype(\"float64\")"
   ]
  },
  {
   "cell_type": "code",
   "execution_count": 13,
   "id": "305f01a1-cb44-42d2-a41c-e66fda46c519",
   "metadata": {},
   "outputs": [
    {
     "name": "stdout",
     "output_type": "stream",
     "text": [
      "<class 'pandas.core.frame.DataFrame'>\n",
      "Int64Index: 100 entries, 0 to 103\n",
      "Data columns (total 3 columns):\n",
      " #   Column          Non-Null Count  Dtype  \n",
      "---  ------          --------------  -----  \n",
      " 0   Source Country  100 non-null    object \n",
      " 1   Sector          100 non-null    object \n",
      " 2   FDI             100 non-null    float64\n",
      "dtypes: float64(1), object(2)\n",
      "memory usage: 3.1+ KB\n"
     ]
    }
   ],
   "source": [
    "df_2020.info()"
   ]
  },
  {
   "cell_type": "markdown",
   "id": "97068c05-9548-45d8-9fc4-f3b48f25a33f",
   "metadata": {
    "tags": []
   },
   "source": [
    "### Indonesia"
   ]
  },
  {
   "cell_type": "code",
   "execution_count": 14,
   "id": "5563f891-6499-4d6b-8f44-1aa7dd426e44",
   "metadata": {},
   "outputs": [],
   "source": [
    "import matplotlib.pyplot as plt"
   ]
  },
  {
   "cell_type": "code",
   "execution_count": 15,
   "id": "b41d8cf1-ccfc-4f4c-91c9-b527ede4b671",
   "metadata": {},
   "outputs": [],
   "source": [
    "def largest_5_sector_inflows(data, column1, column2, country_name):\n",
    "    result = data[data[column1] == country_name]\n",
    "    final_result = result.nlargest(5, [column2])\n",
    "    return final_result"
   ]
  },
  {
   "cell_type": "code",
   "execution_count": 16,
   "id": "f96b4554-ffb9-4874-bdd7-9b129774a3e7",
   "metadata": {},
   "outputs": [],
   "source": [
    "def vis_dat(data, height = 'FDI', x = 'Sector'):\n",
    "    plt.bar(data = data, height=height, x=x)\n",
    "    plt.xticks(rotation = 88)\n",
    "    plt.title(\"5 Sektor dengan arus FDI terbesar (dalam juta US$)\")\n",
    "    !"
   ]
  },
  {
   "cell_type": "code",
   "execution_count": 17,
   "id": "54194513-382d-43d1-817d-12019e70e662",
   "metadata": {},
   "outputs": [],
   "source": [
    "ind_5_largest = largest_5_sector_inflows(data = df_2020, column1 = 'Source Country', column2 = 'FDI', country_name = 'Indonesia [ID]')"
   ]
  },
  {
   "cell_type": "code",
   "execution_count": 18,
   "id": "c41339a6-14dc-4da2-bcbb-e74ae663e02e",
   "metadata": {},
   "outputs": [
    {
     "data": {
      "text/html": [
       "<div>\n",
       "<style scoped>\n",
       "    .dataframe tbody tr th:only-of-type {\n",
       "        vertical-align: middle;\n",
       "    }\n",
       "\n",
       "    .dataframe tbody tr th {\n",
       "        vertical-align: top;\n",
       "    }\n",
       "\n",
       "    .dataframe thead th {\n",
       "        text-align: right;\n",
       "    }\n",
       "</style>\n",
       "<table border=\"1\" class=\"dataframe\">\n",
       "  <thead>\n",
       "    <tr style=\"text-align: right;\">\n",
       "      <th></th>\n",
       "      <th>Source Country</th>\n",
       "      <th>Sector</th>\n",
       "      <th>FDI</th>\n",
       "    </tr>\n",
       "  </thead>\n",
       "  <tbody>\n",
       "    <tr>\n",
       "      <th>6</th>\n",
       "      <td>Indonesia [ID]</td>\n",
       "      <td>Wholesale and retail trade; repair of motor v...</td>\n",
       "      <td>245.11</td>\n",
       "    </tr>\n",
       "    <tr>\n",
       "      <th>1</th>\n",
       "      <td>Indonesia [ID]</td>\n",
       "      <td>Mining and quarrying</td>\n",
       "      <td>169.54</td>\n",
       "    </tr>\n",
       "    <tr>\n",
       "      <th>10</th>\n",
       "      <td>Indonesia [ID]</td>\n",
       "      <td>Financial and Insurance activities</td>\n",
       "      <td>159.95</td>\n",
       "    </tr>\n",
       "    <tr>\n",
       "      <th>9</th>\n",
       "      <td>Indonesia [ID]</td>\n",
       "      <td>Information and communication</td>\n",
       "      <td>64.75</td>\n",
       "    </tr>\n",
       "    <tr>\n",
       "      <th>11</th>\n",
       "      <td>Indonesia [ID]</td>\n",
       "      <td>Real estate activities</td>\n",
       "      <td>9.48</td>\n",
       "    </tr>\n",
       "  </tbody>\n",
       "</table>\n",
       "</div>"
      ],
      "text/plain": [
       "    Source Country                                             Sector     FDI\n",
       "6   Indonesia [ID]   Wholesale and retail trade; repair of motor v...  245.11\n",
       "1   Indonesia [ID]                               Mining and quarrying  169.54\n",
       "10  Indonesia [ID]                 Financial and Insurance activities  159.95\n",
       "9   Indonesia [ID]                      Information and communication   64.75\n",
       "11  Indonesia [ID]                             Real estate activities    9.48"
      ]
     },
     "execution_count": 18,
     "metadata": {},
     "output_type": "execute_result"
    }
   ],
   "source": [
    "ind_5_largest"
   ]
  },
  {
   "cell_type": "code",
   "execution_count": 19,
   "id": "cf1e333d-782f-4446-8e4b-e32f8394b978",
   "metadata": {},
   "outputs": [
    {
     "data": {
      "text/plain": [
       "648.8299999999999"
      ]
     },
     "execution_count": 19,
     "metadata": {},
     "output_type": "execute_result"
    }
   ],
   "source": [
    "ind_5_largest[\"FDI\"].sum()"
   ]
  },
  {
   "cell_type": "markdown",
   "id": "8a9f826b-89f1-4ecc-a8fd-d546e9160ec3",
   "metadata": {},
   "source": [
    "Rata-rata FDI lima sektor terbesar berjumlah US$ 648.82 juta"
   ]
  },
  {
   "cell_type": "code",
   "execution_count": 20,
   "id": "ed82a62b-df3f-4005-93e8-6b595403a12b",
   "metadata": {},
   "outputs": [
    {
     "data": {
      "image/png": "[encoded data removed]",
      "text/plain": [
       "<Figure size 432x288 with 1 Axes>"
      ]
     },
     "metadata": {
      "needs_background": "light"
     },
     "output_type": "display_data"
    }
   ],
   "source": [
    "vis_dat(ind_5_largest)"
   ]
  },
  {
   "cell_type": "markdown",
   "id": "0203c124-b0ac-489a-a9da-f03af4fe34d0",
   "metadata": {},
   "source": [
    "FDI Indonesia berada pada sektor perdagangan besar, perbaikan kendaraan bermotor, pertambangan dan penggalian, keuangan, IT, dan real estate"
   ]
  },
  {
   "cell_type": "markdown",
   "id": "dce4abd1-6db1-4350-ae2e-92c526357a73",
   "metadata": {},
   "source": [
    "### Malaysia"
   ]
  },
  {
   "cell_type": "code",
   "execution_count": 21,
   "id": "aef3a144-4b28-453f-95c0-586a8bac9e14",
   "metadata": {},
   "outputs": [
    {
     "data": {
      "text/html": [
       "<div>\n",
       "<style scoped>\n",
       "    .dataframe tbody tr th:only-of-type {\n",
       "        vertical-align: middle;\n",
       "    }\n",
       "\n",
       "    .dataframe tbody tr th {\n",
       "        vertical-align: top;\n",
       "    }\n",
       "\n",
       "    .dataframe thead th {\n",
       "        text-align: right;\n",
       "    }\n",
       "</style>\n",
       "<table border=\"1\" class=\"dataframe\">\n",
       "  <thead>\n",
       "    <tr style=\"text-align: right;\">\n",
       "      <th></th>\n",
       "      <th>Source Country</th>\n",
       "      <th>Sector</th>\n",
       "      <th>FDI</th>\n",
       "    </tr>\n",
       "  </thead>\n",
       "  <tbody>\n",
       "    <tr>\n",
       "      <th>31</th>\n",
       "      <td>Malaysia [MY]</td>\n",
       "      <td>Financial and Insurance activities</td>\n",
       "      <td>2539.67</td>\n",
       "    </tr>\n",
       "    <tr>\n",
       "      <th>32</th>\n",
       "      <td>Malaysia [MY]</td>\n",
       "      <td>Real estate activities</td>\n",
       "      <td>316.89</td>\n",
       "    </tr>\n",
       "    <tr>\n",
       "      <th>27</th>\n",
       "      <td>Malaysia [MY]</td>\n",
       "      <td>Wholesale and retail trade; repair of motor v...</td>\n",
       "      <td>119.21</td>\n",
       "    </tr>\n",
       "    <tr>\n",
       "      <th>39</th>\n",
       "      <td>Malaysia [MY]</td>\n",
       "      <td>Other services activities.</td>\n",
       "      <td>29.14</td>\n",
       "    </tr>\n",
       "    <tr>\n",
       "      <th>22</th>\n",
       "      <td>Malaysia [MY]</td>\n",
       "      <td>Mining and quarrying</td>\n",
       "      <td>26.94</td>\n",
       "    </tr>\n",
       "  </tbody>\n",
       "</table>\n",
       "</div>"
      ],
      "text/plain": [
       "   Source Country                                             Sector      FDI\n",
       "31  Malaysia [MY]                 Financial and Insurance activities  2539.67\n",
       "32  Malaysia [MY]                             Real estate activities   316.89\n",
       "27  Malaysia [MY]   Wholesale and retail trade; repair of motor v...   119.21\n",
       "39  Malaysia [MY]                         Other services activities.    29.14\n",
       "22  Malaysia [MY]                               Mining and quarrying    26.94"
      ]
     },
     "execution_count": 21,
     "metadata": {},
     "output_type": "execute_result"
    }
   ],
   "source": [
    "mas_5_largest = largest_5_sector_inflows(data = df_2020, column1 = 'Source Country', column2 = 'FDI', country_name = 'Malaysia [MY]')\n",
    "mas_5_largest"
   ]
  },
  {
   "cell_type": "code",
   "execution_count": 22,
   "id": "0ee79bf0-f6a2-4b2d-9d31-f3c9b28f5561",
   "metadata": {},
   "outputs": [
    {
     "data": {
      "text/plain": [
       "3031.85"
      ]
     },
     "execution_count": 22,
     "metadata": {},
     "output_type": "execute_result"
    }
   ],
   "source": [
    "mas_5_largest[\"FDI\"].sum()"
   ]
  },
  {
   "cell_type": "markdown",
   "id": "1f8128a3-6646-4c18-9691-5aa02fb38eb2",
   "metadata": {},
   "source": [
    "Jauh lebih tinggi dibanding Indonesia, FDI yang mengalir ke Malaysia senilai US$ 3031.85 Juta"
   ]
  },
  {
   "cell_type": "code",
   "execution_count": 23,
   "id": "6189018b-01b5-47c4-9c18-3d90030c033c",
   "metadata": {},
   "outputs": [
    {
     "data": {
      "image/png": "[encoded data removed]",
      "text/plain": [
       "<Figure size 432x288 with 1 Axes>"
      ]
     },
     "metadata": {
      "needs_background": "light"
     },
     "output_type": "display_data"
    }
   ],
   "source": [
    "vis_dat(mas_5_largest)"
   ]
  },
  {
   "cell_type": "markdown",
   "id": "b0cf0f39-c2ab-4d9b-8f49-b9afa859dee0",
   "metadata": {},
   "source": [
    "FDI Malaysia berada pada sektor keuangan"
   ]
  },
  {
   "cell_type": "markdown",
   "id": "bd9de838-46ff-44c0-8ad4-aa9842e0bf6d",
   "metadata": {},
   "source": [
    "### Philippines"
   ]
  },
  {
   "cell_type": "code",
   "execution_count": 24,
   "id": "c2c600b3-803c-419b-9e67-880a9cb52c37",
   "metadata": {},
   "outputs": [
    {
     "data": {
      "text/html": [
       "<div>\n",
       "<style scoped>\n",
       "    .dataframe tbody tr th:only-of-type {\n",
       "        vertical-align: middle;\n",
       "    }\n",
       "\n",
       "    .dataframe tbody tr th {\n",
       "        vertical-align: top;\n",
       "    }\n",
       "\n",
       "    .dataframe thead th {\n",
       "        text-align: right;\n",
       "    }\n",
       "</style>\n",
       "<table border=\"1\" class=\"dataframe\">\n",
       "  <thead>\n",
       "    <tr style=\"text-align: right;\">\n",
       "      <th></th>\n",
       "      <th>Source Country</th>\n",
       "      <th>Sector</th>\n",
       "      <th>FDI</th>\n",
       "    </tr>\n",
       "  </thead>\n",
       "  <tbody>\n",
       "    <tr>\n",
       "      <th>48</th>\n",
       "      <td>Philippines [PH]</td>\n",
       "      <td>Wholesale and retail trade; repair of motor v...</td>\n",
       "      <td>37.33</td>\n",
       "    </tr>\n",
       "    <tr>\n",
       "      <th>45</th>\n",
       "      <td>Philippines [PH]</td>\n",
       "      <td>Electricity, gas, steam and air conditioning ...</td>\n",
       "      <td>30.72</td>\n",
       "    </tr>\n",
       "    <tr>\n",
       "      <th>53</th>\n",
       "      <td>Philippines [PH]</td>\n",
       "      <td>Real estate activities</td>\n",
       "      <td>29.00</td>\n",
       "    </tr>\n",
       "    <tr>\n",
       "      <th>52</th>\n",
       "      <td>Philippines [PH]</td>\n",
       "      <td>Financial and Insurance activities</td>\n",
       "      <td>16.97</td>\n",
       "    </tr>\n",
       "    <tr>\n",
       "      <th>49</th>\n",
       "      <td>Philippines [PH]</td>\n",
       "      <td>Transportation and storage</td>\n",
       "      <td>11.65</td>\n",
       "    </tr>\n",
       "  </tbody>\n",
       "</table>\n",
       "</div>"
      ],
      "text/plain": [
       "      Source Country                                             Sector    FDI\n",
       "48  Philippines [PH]   Wholesale and retail trade; repair of motor v...  37.33\n",
       "45  Philippines [PH]   Electricity, gas, steam and air conditioning ...  30.72\n",
       "53  Philippines [PH]                             Real estate activities  29.00\n",
       "52  Philippines [PH]                 Financial and Insurance activities  16.97\n",
       "49  Philippines [PH]                         Transportation and storage  11.65"
      ]
     },
     "execution_count": 24,
     "metadata": {},
     "output_type": "execute_result"
    }
   ],
   "source": [
    "phi_5_largest = largest_5_sector_inflows(data = df_2020, column1 = 'Source Country', column2 = 'FDI', country_name = 'Philippines [PH]')\n",
    "phi_5_largest"
   ]
  },
  {
   "cell_type": "code",
   "execution_count": 25,
   "id": "086810e6-ddc4-417a-a74f-910520b6288b",
   "metadata": {},
   "outputs": [
    {
     "data": {
      "text/plain": [
       "125.67"
      ]
     },
     "execution_count": 25,
     "metadata": {},
     "output_type": "execute_result"
    }
   ],
   "source": [
    "phi_5_largest[\"FDI\"].sum()"
   ]
  },
  {
   "cell_type": "markdown",
   "id": "dd5f5433-a7f6-4771-a583-8f8c2921e9f9",
   "metadata": {},
   "source": [
    "Filipina menjadi negara yang kurang diminati oleh investor asing dengan nilai FDI terendah yaitu sebesar US$ 125.67 Juta"
   ]
  },
  {
   "cell_type": "code",
   "execution_count": 26,
   "id": "55ff7284-a93b-4d43-8950-8a1e6e40a78d",
   "metadata": {},
   "outputs": [
    {
     "data": {
      "image/png": "[encoded data removed]",
      "text/plain": [
       "<Figure size 432x288 with 1 Axes>"
      ]
     },
     "metadata": {
      "needs_background": "light"
     },
     "output_type": "display_data"
    }
   ],
   "source": [
    "vis_dat(phi_5_largest)"
   ]
  },
  {
   "cell_type": "markdown",
   "id": "0e13ef86-1353-41b2-8c72-155baa84e5c3",
   "metadata": {},
   "source": [
    "Persebaran sektor arus FDI di filipina hampir merata untuk 5 sektor terbesar. Namun, sektor listrik, gas, dan AC menjadi sektor pembeda untuk negara Indonesia dan Malaysia"
   ]
  },
  {
   "cell_type": "markdown",
   "id": "b018190d-147d-4d48-9bcd-6c755b1b52b8",
   "metadata": {},
   "source": [
    "### Singapore"
   ]
  },
  {
   "cell_type": "code",
   "execution_count": 27,
   "id": "edb5b38d-8489-4c23-bb40-8ebcf550cfac",
   "metadata": {},
   "outputs": [
    {
     "data": {
      "text/html": [
       "<div>\n",
       "<style scoped>\n",
       "    .dataframe tbody tr th:only-of-type {\n",
       "        vertical-align: middle;\n",
       "    }\n",
       "\n",
       "    .dataframe tbody tr th {\n",
       "        vertical-align: top;\n",
       "    }\n",
       "\n",
       "    .dataframe thead th {\n",
       "        text-align: right;\n",
       "    }\n",
       "</style>\n",
       "<table border=\"1\" class=\"dataframe\">\n",
       "  <thead>\n",
       "    <tr style=\"text-align: right;\">\n",
       "      <th></th>\n",
       "      <th>Source Country</th>\n",
       "      <th>Sector</th>\n",
       "      <th>FDI</th>\n",
       "    </tr>\n",
       "  </thead>\n",
       "  <tbody>\n",
       "    <tr>\n",
       "      <th>65</th>\n",
       "      <td>Singapore [SG]</td>\n",
       "      <td>Manufacturing</td>\n",
       "      <td>3435.32</td>\n",
       "    </tr>\n",
       "    <tr>\n",
       "      <th>73</th>\n",
       "      <td>Singapore [SG]</td>\n",
       "      <td>Financial and Insurance activities</td>\n",
       "      <td>2646.62</td>\n",
       "    </tr>\n",
       "    <tr>\n",
       "      <th>69</th>\n",
       "      <td>Singapore [SG]</td>\n",
       "      <td>Wholesale and retail trade; repair of motor v...</td>\n",
       "      <td>1931.35</td>\n",
       "    </tr>\n",
       "    <tr>\n",
       "      <th>74</th>\n",
       "      <td>Singapore [SG]</td>\n",
       "      <td>Real estate activities</td>\n",
       "      <td>1534.35</td>\n",
       "    </tr>\n",
       "    <tr>\n",
       "      <th>66</th>\n",
       "      <td>Singapore [SG]</td>\n",
       "      <td>Electricity, gas, steam and air conditioning ...</td>\n",
       "      <td>987.24</td>\n",
       "    </tr>\n",
       "  </tbody>\n",
       "</table>\n",
       "</div>"
      ],
      "text/plain": [
       "    Source Country                                             Sector      FDI\n",
       "65  Singapore [SG]                                      Manufacturing  3435.32\n",
       "73  Singapore [SG]                 Financial and Insurance activities  2646.62\n",
       "69  Singapore [SG]   Wholesale and retail trade; repair of motor v...  1931.35\n",
       "74  Singapore [SG]                             Real estate activities  1534.35\n",
       "66  Singapore [SG]   Electricity, gas, steam and air conditioning ...   987.24"
      ]
     },
     "execution_count": 27,
     "metadata": {},
     "output_type": "execute_result"
    }
   ],
   "source": [
    "sin_5_largest = largest_5_sector_inflows(data = df_2020, column1 = 'Source Country', column2 = 'FDI', country_name = 'Singapore [SG]')\n",
    "sin_5_largest"
   ]
  },
  {
   "cell_type": "code",
   "execution_count": 28,
   "id": "4c6e77ab-df3f-4da4-9d55-9a1e5b532505",
   "metadata": {},
   "outputs": [
    {
     "data": {
      "text/plain": [
       "10534.880000000001"
      ]
     },
     "execution_count": 28,
     "metadata": {},
     "output_type": "execute_result"
    }
   ],
   "source": [
    "sin_5_largest[\"FDI\"].sum()"
   ]
  },
  {
   "cell_type": "code",
   "execution_count": 29,
   "id": "df08532f-f256-4935-afad-6f2e825f0599",
   "metadata": {},
   "outputs": [
    {
     "data": {
      "text/plain": [
       "83.82971273971513"
      ]
     },
     "execution_count": 29,
     "metadata": {},
     "output_type": "execute_result"
    }
   ],
   "source": [
    "sin_5_largest[\"FDI\"].sum()/phi_5_largest[\"FDI\"].sum()"
   ]
  },
  {
   "cell_type": "markdown",
   "id": "75e3d9d7-4933-4655-97d2-c517e29d674a",
   "metadata": {},
   "source": [
    "Nilai FDI singapura mencapai 83.82 kali nilai FDI Filipina, sebesar US$ 10534.8 Juta"
   ]
  },
  {
   "cell_type": "code",
   "execution_count": 30,
   "id": "f56c3be5-769b-45c6-8907-e652d2011c99",
   "metadata": {},
   "outputs": [
    {
     "data": {
      "image/png": "[encoded data removed]",
      "text/plain": [
       "<Figure size 432x288 with 1 Axes>"
      ]
     },
     "metadata": {
      "needs_background": "light"
     },
     "output_type": "display_data"
    }
   ],
   "source": [
    "vis_dat(sin_5_largest)"
   ]
  },
  {
   "cell_type": "markdown",
   "id": "56345936-6755-4ca1-b61d-501e734e26fd",
   "metadata": {},
   "source": [
    "Sektor manufaktur menjadi pilihan investor asing ke Singapura"
   ]
  },
  {
   "cell_type": "markdown",
   "id": "ec81284a-e2ab-42ce-8ec5-6b1e67e9bbac",
   "metadata": {},
   "source": [
    "### Thailand"
   ]
  },
  {
   "cell_type": "code",
   "execution_count": 31,
   "id": "4b5eb5ee-56b6-4f8b-91d9-3901ea9abc6d",
   "metadata": {},
   "outputs": [
    {
     "data": {
      "text/html": [
       "<div>\n",
       "<style scoped>\n",
       "    .dataframe tbody tr th:only-of-type {\n",
       "        vertical-align: middle;\n",
       "    }\n",
       "\n",
       "    .dataframe tbody tr th {\n",
       "        vertical-align: top;\n",
       "    }\n",
       "\n",
       "    .dataframe thead th {\n",
       "        text-align: right;\n",
       "    }\n",
       "</style>\n",
       "<table border=\"1\" class=\"dataframe\">\n",
       "  <thead>\n",
       "    <tr style=\"text-align: right;\">\n",
       "      <th></th>\n",
       "      <th>Source Country</th>\n",
       "      <th>Sector</th>\n",
       "      <th>FDI</th>\n",
       "    </tr>\n",
       "  </thead>\n",
       "  <tbody>\n",
       "    <tr>\n",
       "      <th>94</th>\n",
       "      <td>Thailand [TH]</td>\n",
       "      <td>Financial and Insurance activities</td>\n",
       "      <td>3108.77</td>\n",
       "    </tr>\n",
       "    <tr>\n",
       "      <th>90</th>\n",
       "      <td>Thailand [TH]</td>\n",
       "      <td>Wholesale and retail trade; repair of motor v...</td>\n",
       "      <td>790.51</td>\n",
       "    </tr>\n",
       "    <tr>\n",
       "      <th>86</th>\n",
       "      <td>Thailand [TH]</td>\n",
       "      <td>Manufacturing</td>\n",
       "      <td>472.61</td>\n",
       "    </tr>\n",
       "    <tr>\n",
       "      <th>85</th>\n",
       "      <td>Thailand [TH]</td>\n",
       "      <td>Mining and quarrying</td>\n",
       "      <td>286.69</td>\n",
       "    </tr>\n",
       "    <tr>\n",
       "      <th>87</th>\n",
       "      <td>Thailand [TH]</td>\n",
       "      <td>Electricity, gas, steam and air conditioning ...</td>\n",
       "      <td>212.87</td>\n",
       "    </tr>\n",
       "  </tbody>\n",
       "</table>\n",
       "</div>"
      ],
      "text/plain": [
       "   Source Country                                             Sector      FDI\n",
       "94  Thailand [TH]                 Financial and Insurance activities  3108.77\n",
       "90  Thailand [TH]   Wholesale and retail trade; repair of motor v...   790.51\n",
       "86  Thailand [TH]                                      Manufacturing   472.61\n",
       "85  Thailand [TH]                               Mining and quarrying   286.69\n",
       "87  Thailand [TH]   Electricity, gas, steam and air conditioning ...   212.87"
      ]
     },
     "execution_count": 31,
     "metadata": {},
     "output_type": "execute_result"
    }
   ],
   "source": [
    "tha_5_largest = largest_5_sector_inflows(data = df_2020, column1 = 'Source Country', column2 = 'FDI', country_name = 'Thailand [TH]')\n",
    "tha_5_largest"
   ]
  },
  {
   "cell_type": "code",
   "execution_count": 32,
   "id": "3142345b-2a5b-4e3c-ae19-fda2488cd4aa",
   "metadata": {},
   "outputs": [
    {
     "data": {
      "text/plain": [
       "4871.449999999999"
      ]
     },
     "execution_count": 32,
     "metadata": {},
     "output_type": "execute_result"
    }
   ],
   "source": [
    "tha_5_largest[\"FDI\"].sum()"
   ]
  },
  {
   "cell_type": "markdown",
   "id": "dd414a45-3a10-4758-a28b-2f92a85dd06c",
   "metadata": {},
   "source": [
    "sebesar US$ 4871.44 nilai FDI 5 sektor terbsesar mengalir ke Thailand"
   ]
  },
  {
   "cell_type": "code",
   "execution_count": 33,
   "id": "d7db7b1f-a303-4fc2-8fdc-c62ef6361a01",
   "metadata": {},
   "outputs": [
    {
     "data": {
      "image/png": "[encoded data removed]",
      "text/plain": [
       "<Figure size 432x288 with 1 Axes>"
      ]
     },
     "metadata": {
      "needs_background": "light"
     },
     "output_type": "display_data"
    }
   ],
   "source": [
    "vis_dat(tha_5_largest)"
   ]
  },
  {
   "cell_type": "markdown",
   "id": "5add1044-1b1c-492e-85fb-f7e425fed101",
   "metadata": {},
   "source": [
    "Arus FDI ke Thailand, terbesar mengalir ke sektor keuangan, sama dengan malaysia"
   ]
  },
  {
   "cell_type": "code",
   "execution_count": null,
   "id": "712c9335-79b5-496c-bedb-52fa303e7ca6",
   "metadata": {},
   "outputs": [],
   "source": []
  }
 ],
 "metadata": {
  "kernelspec": {
   "display_name": "Python 3",
   "language": "python",
   "name": "python3"
  },
  "language_info": {
   "codemirror_mode": {
    "name": "ipython",
    "version": 3
   },
   "file_extension": ".py",
   "mimetype": "text/x-python",
   "name": "python",
   "nbconvert_exporter": "python",
   "pygments_lexer": "ipython3",
   "version": "3.9.1"
  }
 },
 "nbformat": 4,
 "nbformat_minor": 5
}
